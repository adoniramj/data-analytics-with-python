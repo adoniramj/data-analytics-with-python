{
 "cells": [
  {
   "cell_type": "markdown",
   "metadata": {},
   "source": [
    "# Working with directories"
   ]
  },
  {
   "cell_type": "markdown",
   "metadata": {},
   "source": [
    "## create three sample directories inside the samples_files directory"
   ]
  },
  {
   "cell_type": "code",
   "execution_count": 2,
   "metadata": {},
   "outputs": [],
   "source": [
    "import os"
   ]
  },
  {
   "cell_type": "code",
   "execution_count": 2,
   "metadata": {},
   "outputs": [],
   "source": [
    "os.mkdir(\"sample_files/dir_one\")\n",
    "os.mkdir(\"sample_files/dir_two\")\n",
    "os.mkdir(\"sample_files/dir_three\")"
   ]
  },
  {
   "cell_type": "markdown",
   "metadata": {},
   "source": [
    "## create a fourth directory using absolute path"
   ]
  },
  {
   "cell_type": "code",
   "execution_count": 3,
   "metadata": {},
   "outputs": [
    {
     "name": "stdout",
     "output_type": "stream",
     "text": [
      "/home/josuevargas/Documents/programming/python/python_notes/working_with_files_and_directories/file_manipulation/sample_files/dir_four\n"
     ]
    }
   ],
   "source": [
    "current_path = os.getcwd()\n",
    "new_dir = \"sample_files/dir_four\"\n",
    "full_path = os.path.join(current_path, new_dir)\n",
    "print(full_path)"
   ]
  },
  {
   "cell_type": "code",
   "execution_count": 4,
   "metadata": {},
   "outputs": [],
   "source": [
    "os.mkdir(full_path)"
   ]
  },
  {
   "cell_type": "markdown",
   "metadata": {},
   "source": [
    "## remove sample_files/dir_one\n",
    "rmdir will only work if the directory is empty. Otherwise, an error will be thrown."
   ]
  },
  {
   "cell_type": "code",
   "execution_count": 6,
   "metadata": {},
   "outputs": [
    {
     "ename": "FileNotFoundError",
     "evalue": "[Errno 2] No such file or directory: '/home/josuevargas/Documents/programming/python/python_notes/working_with_files_and_directories/file_manipulation/sample_files/dir_one/'",
     "output_type": "error",
     "traceback": [
      "\u001b[0;31m---------------------------------------------------------------------------\u001b[0m",
      "\u001b[0;31mFileNotFoundError\u001b[0m                         Traceback (most recent call last)",
      "\u001b[0;32m<ipython-input-6-561180909df8>\u001b[0m in \u001b[0;36m<module>\u001b[0;34m\u001b[0m\n\u001b[1;32m      3\u001b[0m \u001b[0;31m# update full_path\u001b[0m\u001b[0;34m\u001b[0m\u001b[0;34m\u001b[0m\u001b[0;34m\u001b[0m\u001b[0m\n\u001b[1;32m      4\u001b[0m \u001b[0mfull_path\u001b[0m \u001b[0;34m=\u001b[0m \u001b[0mos\u001b[0m\u001b[0;34m.\u001b[0m\u001b[0mpath\u001b[0m\u001b[0;34m.\u001b[0m\u001b[0mjoin\u001b[0m\u001b[0;34m(\u001b[0m\u001b[0mcurrent_path\u001b[0m\u001b[0;34m,\u001b[0m\u001b[0mdir_to_remove\u001b[0m\u001b[0;34m)\u001b[0m\u001b[0;34m\u001b[0m\u001b[0;34m\u001b[0m\u001b[0m\n\u001b[0;32m----> 5\u001b[0;31m \u001b[0mos\u001b[0m\u001b[0;34m.\u001b[0m\u001b[0mrmdir\u001b[0m\u001b[0;34m(\u001b[0m\u001b[0mfull_path\u001b[0m\u001b[0;34m)\u001b[0m\u001b[0;34m\u001b[0m\u001b[0;34m\u001b[0m\u001b[0m\n\u001b[0m",
      "\u001b[0;31mFileNotFoundError\u001b[0m: [Errno 2] No such file or directory: '/home/josuevargas/Documents/programming/python/python_notes/working_with_files_and_directories/file_manipulation/sample_files/dir_one/'"
     ]
    }
   ],
   "source": [
    "# use current path from above\n",
    "dir_to_remove = \"sample_files/dir_one/\"\n",
    "# update full_path\n",
    "full_path = os.path.join(current_path,dir_to_remove)\n",
    "os.rmdir(full_path)"
   ]
  },
  {
   "cell_type": "markdown",
   "metadata": {},
   "source": [
    "## use os.listdir to see what's inside sample_files"
   ]
  },
  {
   "cell_type": "code",
   "execution_count": 7,
   "metadata": {},
   "outputs": [
    {
     "data": {
      "text/plain": [
       "['cities.txt',\n",
       " 'dir_three',\n",
       " 'dir_four',\n",
       " 'inc_states.txt',\n",
       " 'states.txt',\n",
       " 'dir_two',\n",
       " 'write_to_a_file.txt',\n",
       " 'poem.txt']"
      ]
     },
     "execution_count": 7,
     "metadata": {},
     "output_type": "execute_result"
    }
   ],
   "source": [
    "os.listdir(\"sample_files/\")"
   ]
  },
  {
   "cell_type": "markdown",
   "metadata": {},
   "source": [
    "## Check to see which files inside \"samples_files\" are directories and which are not."
   ]
  },
  {
   "cell_type": "code",
   "execution_count": 12,
   "metadata": {},
   "outputs": [
    {
     "name": "stdout",
     "output_type": "stream",
     "text": [
      "['cities.txt', 'dir_three', 'dir_four', 'inc_states.txt', 'states.txt', 'dir_two', 'write_to_a_file.txt', 'poem.txt']\n"
     ]
    }
   ],
   "source": [
    "# using absolute path\n",
    "dir_to_check = os.path.abspath(\"sample_files\")\n",
    "list_of_files = os.listdir(dir_to_check)\n",
    "print(list_of_files)"
   ]
  },
  {
   "cell_type": "code",
   "execution_count": 21,
   "metadata": {},
   "outputs": [
    {
     "name": "stdout",
     "output_type": "stream",
     "text": [
      "dir_three is a directory\n",
      "dir_four is a directory\n",
      "dir_two is a directory\n"
     ]
    }
   ],
   "source": [
    "for item in list_of_files:\n",
    "    full_name = os.path.join(dir_to_check, item)  #creates a full name to be os independent\n",
    "    if os.path.isdir(full_name):\n",
    "        print(\"{} is a directory\".format(item))"
   ]
  },
  {
   "cell_type": "markdown",
   "metadata": {},
   "source": [
    "## Working with parent directory"
   ]
  },
  {
   "cell_type": "code",
   "execution_count": 4,
   "metadata": {},
   "outputs": [
    {
     "name": "stdout",
     "output_type": "stream",
     "text": [
      "/media/josue/main_data/programming/linux_and_windows/python_notes/working_with_files_and_directories/file_manipulation\n"
     ]
    }
   ],
   "source": [
    "path = os.getcwd()\n",
    "print(path)"
   ]
  },
  {
   "cell_type": "code",
   "execution_count": 8,
   "metadata": {},
   "outputs": [
    {
     "name": "stdout",
     "output_type": "stream",
     "text": [
      "/media/josue/main_data/programming/linux_and_windows/python_notes/working_with_files_and_directories/file_manipulation/..\n"
     ]
    }
   ],
   "source": [
    "parent = os.path.join(os.getcwd(),'..')\n",
    "print(parent)"
   ]
  },
  {
   "cell_type": "code",
   "execution_count": 9,
   "metadata": {},
   "outputs": [
    {
     "name": "stdout",
     "output_type": "stream",
     "text": [
      "/media/josue/main_data/programming/linux_and_windows/python_notes/working_with_files_and_directories\n"
     ]
    }
   ],
   "source": [
    "os.chdir(parent)\n",
    "print(os.getcwd())"
   ]
  },
  {
   "cell_type": "code",
   "execution_count": null,
   "metadata": {},
   "outputs": [],
   "source": []
  }
 ],
 "metadata": {
  "kernelspec": {
   "display_name": "Python 3",
   "language": "python",
   "name": "python3"
  },
  "language_info": {
   "codemirror_mode": {
    "name": "ipython",
    "version": 3
   },
   "file_extension": ".py",
   "mimetype": "text/x-python",
   "name": "python",
   "nbconvert_exporter": "python",
   "pygments_lexer": "ipython3",
   "version": "3.7.7"
  }
 },
 "nbformat": 4,
 "nbformat_minor": 4
}
