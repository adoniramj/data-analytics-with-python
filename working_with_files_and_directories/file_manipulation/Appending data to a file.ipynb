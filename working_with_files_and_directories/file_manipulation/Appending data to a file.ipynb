{
 "cells": [
  {
   "cell_type": "markdown",
   "metadata": {},
   "source": [
    "# Append data to an exisiting file"
   ]
  },
  {
   "cell_type": "code",
   "execution_count": 28,
   "metadata": {},
   "outputs": [],
   "source": [
    "_file = \"sample_files/cities.txt\""
   ]
  },
  {
   "cell_type": "code",
   "execution_count": 29,
   "metadata": {},
   "outputs": [],
   "source": [
    "cities = open(_file,\"w\")"
   ]
  },
  {
   "cell_type": "code",
   "execution_count": 30,
   "metadata": {},
   "outputs": [],
   "source": [
    "city_list = [\"Miami\", \"Orlando\", \"Atlanta\"]"
   ]
  },
  {
   "cell_type": "code",
   "execution_count": 31,
   "metadata": {},
   "outputs": [],
   "source": [
    "for city in city_list:\n",
    "    cities.write(city + \"\\n\")\n",
    "    \n",
    "cities.close()"
   ]
  },
  {
   "cell_type": "code",
   "execution_count": 33,
   "metadata": {},
   "outputs": [
    {
     "name": "stdout",
     "output_type": "stream",
     "text": [
      "Miami\n",
      "\n",
      "Orlando\n",
      "\n",
      "Atlanta\n",
      "\n"
     ]
    }
   ],
   "source": [
    "with open(_file) as cities:\n",
    "    for city in cities:\n",
    "        print(city)"
   ]
  },
  {
   "cell_type": "markdown",
   "metadata": {},
   "source": [
    "## Append additional data to the file"
   ]
  },
  {
   "cell_type": "code",
   "execution_count": 34,
   "metadata": {},
   "outputs": [],
   "source": [
    "more_cities = [\"Charlotte\", \"New York\"]"
   ]
  },
  {
   "cell_type": "code",
   "execution_count": 35,
   "metadata": {},
   "outputs": [],
   "source": [
    "with open(_file, \"a\") as cities:\n",
    "    for city in more_cities:\n",
    "        cities.write(city + \"\\n\")"
   ]
  },
  {
   "cell_type": "code",
   "execution_count": 36,
   "metadata": {},
   "outputs": [
    {
     "name": "stdout",
     "output_type": "stream",
     "text": [
      "Miami\n",
      "\n",
      "Orlando\n",
      "\n",
      "Atlanta\n",
      "\n",
      "Charlotte\n",
      "\n",
      "New York\n",
      "\n"
     ]
    }
   ],
   "source": [
    "with open(_file) as cities:\n",
    "    for city in cities:\n",
    "        print(city)"
   ]
  },
  {
   "cell_type": "markdown",
   "metadata": {},
   "source": [
    "## Remove specific data from a file."
   ]
  },
  {
   "cell_type": "code",
   "execution_count": 37,
   "metadata": {},
   "outputs": [],
   "source": [
    "cities_to_remove = [\"Miami\", \"Orlando\"]\n",
    "tmp_city_list = []"
   ]
  },
  {
   "cell_type": "code",
   "execution_count": 38,
   "metadata": {},
   "outputs": [],
   "source": [
    "# Read file and add all cities to tmp_city_list\n",
    "\n",
    "with open(_file, \"r\") as cities:\n",
    "    for city in cities:\n",
    "        tmp_city_list.append(city.strip())"
   ]
  },
  {
   "cell_type": "code",
   "execution_count": 39,
   "metadata": {},
   "outputs": [
    {
     "name": "stdout",
     "output_type": "stream",
     "text": [
      "['Miami', 'Orlando', 'Atlanta', 'Charlotte', 'New York']\n"
     ]
    }
   ],
   "source": [
    "#Print tmp_city_list for verifaction\n",
    "print(tmp_city_list)"
   ]
  },
  {
   "cell_type": "markdown",
   "metadata": {},
   "source": [
    "To remove the cities is a two step procedure.\n",
    "1. Open the file in \"w\" mode. This will delete all the data in the file.\n",
    "2. Loop through tmp_city_list to filter out the cities."
   ]
  },
  {
   "cell_type": "code",
   "execution_count": 40,
   "metadata": {},
   "outputs": [],
   "source": [
    "with open(_file, \"w\") as cities:\n",
    "    for city in tmp_city_list:\n",
    "        if city not in cities_to_remove:\n",
    "            cities.write(city + \"\\n\")"
   ]
  },
  {
   "cell_type": "code",
   "execution_count": 12,
   "metadata": {},
   "outputs": [
    {
     "name": "stdout",
     "output_type": "stream",
     "text": [
      "Atlanta\n",
      "\n",
      "Charlotte\n",
      "\n",
      "New York\n",
      "\n"
     ]
    }
   ],
   "source": [
    "# Read cities.txt to see if changes were incorporated\n",
    "\n",
    "with open(_file, \"r\") as cities:\n",
    "    for each_line in cities:\n",
    "        print(each_line)"
   ]
  },
  {
   "cell_type": "markdown",
   "metadata": {},
   "source": [
    "How can you check if Miami or New York are in the file?"
   ]
  },
  {
   "cell_type": "code",
   "execution_count": 13,
   "metadata": {},
   "outputs": [
    {
     "name": "stdout",
     "output_type": "stream",
     "text": [
      "['Atlanta', 'Charlotte', 'New York']\n"
     ]
    }
   ],
   "source": [
    "cities_to_check = [\"Miami\", \"New York\"]\n",
    "tmp_city_list = []\n",
    "\n",
    "# Read content and add to tmp_city_list\n",
    "\n",
    "with open(\"sample_files/cities.txt\", \"r\") as cities:\n",
    "    for each_line in cities:\n",
    "        tmp_city_list.append(each_line.strip())\n",
    "\n",
    "print(tmp_city_list)"
   ]
  },
  {
   "cell_type": "code",
   "execution_count": 3,
   "metadata": {},
   "outputs": [
    {
     "name": "stdout",
     "output_type": "stream",
     "text": [
      "Miami is not in the file\n",
      "New York is in the file\n"
     ]
    }
   ],
   "source": [
    "# loop through to tmp_city_list to which cities  are in cities_to_check\n",
    "\n",
    "for city in cities_to_check:\n",
    "    if city in tmp_city_list:\n",
    "        print(\"{} is in the file\".format(city))\n",
    "    else:\n",
    "        print(\"{} is not in the file\".format(city))"
   ]
  },
  {
   "cell_type": "code",
   "execution_count": null,
   "metadata": {},
   "outputs": [],
   "source": []
  }
 ],
 "metadata": {
  "kernelspec": {
   "display_name": "Python 3",
   "language": "python",
   "name": "python3"
  },
  "language_info": {
   "codemirror_mode": {
    "name": "ipython",
    "version": 3
   },
   "file_extension": ".py",
   "mimetype": "text/x-python",
   "name": "python",
   "nbconvert_exporter": "python",
   "pygments_lexer": "ipython3",
   "version": "3.7.6"
  }
 },
 "nbformat": 4,
 "nbformat_minor": 4
}
