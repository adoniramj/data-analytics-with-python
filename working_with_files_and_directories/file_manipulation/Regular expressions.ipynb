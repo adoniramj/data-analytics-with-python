{
 "cells": [
  {
   "cell_type": "markdown",
   "metadata": {},
   "source": [
    "# Regex\n",
    "\n",
    "Regular expressions allow us to search a text for a string matching a specific pattern."
   ]
  },
  {
   "cell_type": "markdown",
   "metadata": {},
   "source": [
    "## How to use bash in ipython\n",
    "\n",
    "add a ! before the command"
   ]
  },
  {
   "cell_type": "code",
   "execution_count": 2,
   "metadata": {},
   "outputs": [
    {
     "name": "stdout",
     "output_type": "stream",
     "text": [
      "Anthony\r\n",
      "Anthony's\r\n",
      "Johnathon\r\n",
      "Johnathon's\r\n",
      "Jonathon\r\n",
      "Jonathon's\r\n",
      "Marathon\r\n",
      "Marathon's\r\n",
      "Phaethon\r\n",
      "Phaethon's\r\n",
      "Python\r\n",
      "Python's\r\n",
      "diphthong\r\n",
      "diphthong's\r\n",
      "diphthongs\r\n",
      "marathon\r\n",
      "marathon's\r\n",
      "marathoner\r\n",
      "marathoner's\r\n",
      "marathoners\r\n",
      "marathons\r\n",
      "python\r\n",
      "python's\r\n",
      "pythons\r\n",
      "telethon\r\n",
      "telethon's\r\n",
      "telethons\r\n",
      "thong\r\n",
      "thong's\r\n",
      "thongs\r\n"
     ]
    }
   ],
   "source": [
    "!grep thon /usr/share/dict/words\n",
    "\n",
    "#grep will search and return all strings that have the string thon included in each of them."
   ]
  },
  {
   "cell_type": "markdown",
   "metadata": {},
   "source": [
    "grep is case sensitive, to make grep case-insensitive use -i"
   ]
  },
  {
   "cell_type": "code",
   "execution_count": 6,
   "metadata": {},
   "outputs": [
    {
     "name": "stdout",
     "output_type": "stream",
     "text": [
      "Python\n",
      "Python's\n",
      "python\n",
      "python's\n",
      "pythons\n",
      "****************************************************************************************************\n",
      "python\n",
      "python's\n",
      "pythons\n"
     ]
    }
   ],
   "source": [
    "!grep -i python /usr/share/dict/words\n",
    "print(\"*\"*100)\n",
    "!grep python /usr/share/dict/words"
   ]
  },
  {
   "cell_type": "markdown",
   "metadata": {},
   "source": [
    "## Using special characters\n",
    "\n",
    "- \".\" is a wild card\n",
    "- \"^\" to search for words that start with a certain string. Anchor character.\n",
    "- \"$\" to search for words that end with a certain string. Anchor character"
   ]
  },
  {
   "cell_type": "code",
   "execution_count": 9,
   "metadata": {},
   "outputs": [
    {
     "name": "stdout",
     "output_type": "stream",
     "text": [
      "alerts\n",
      "blurts\n",
      "flirts\n",
      "****************************************************************************************************\n",
      "fruit\n",
      "fruit's\n",
      "fruitcake\n",
      "fruitcake's\n",
      "fruitcakes\n",
      "fruited\n",
      "fruitful\n",
      "fruitfully\n",
      "fruitfulness\n",
      "fruitfulness's\n",
      "fruitier\n",
      "fruitiest\n",
      "fruiting\n",
      "fruition\n",
      "fruition's\n",
      "fruitless\n",
      "fruitlessly\n",
      "fruitlessness\n",
      "fruitlessness's\n",
      "fruits\n",
      "fruity\n",
      "****************************************************************************************************\n",
      "cake\n",
      "cheesecake\n",
      "coffeecake\n",
      "cupcake\n",
      "fruitcake\n",
      "griddlecake\n",
      "hotcake\n",
      "pancake\n",
      "shortcake\n"
     ]
    }
   ],
   "source": [
    "! grep l.rts /usr/share/dict/words\n",
    "print(\"*\"*100)\n",
    "!grep ^fruit /usr/share/dict/words\n",
    "print(\"*\"*100)\n",
    "!grep cake$ /usr/share/dict/words"
   ]
  },
  {
   "cell_type": "markdown",
   "metadata": {},
   "source": [
    "# Regex in Python\n",
    "\n",
    "- to regex in Python import the re module."
   ]
  },
  {
   "cell_type": "code",
   "execution_count": 10,
   "metadata": {},
   "outputs": [],
   "source": [
    "import re"
   ]
  },
  {
   "cell_type": "code",
   "execution_count": 15,
   "metadata": {},
   "outputs": [
    {
     "name": "stdout",
     "output_type": "stream",
     "text": [
      "<re.Match object; span=(1, 4), match='aza'>\n",
      "None\n",
      "<re.Match object; span=(1, 4), match='AZA'>\n",
      "<re.Match object; span=(0, 1), match='B'>\n",
      "<re.Match object; span=(4, 5), match='r'>\n"
     ]
    }
   ],
   "source": [
    "print(re.search(r\"aza\", \"bazar\"))\n",
    "print(re.search(r\"aza\", \"BAZAR\"))\n",
    "print(re.search(r\"aza\", \"BAZAR\", re.IGNORECASE))\n",
    "print(re.search(r\"^b\", \"BAZAR\", re.IGNORECASE))\n",
    "print(re.search(r\"R$\", \"bazar\", re.IGNORECASE))"
   ]
  },
  {
   "cell_type": "code",
   "execution_count": null,
   "metadata": {},
   "outputs": [],
   "source": []
  }
 ],
 "metadata": {
  "kernelspec": {
   "display_name": "Python 3",
   "language": "python",
   "name": "python3"
  },
  "language_info": {
   "codemirror_mode": {
    "name": "ipython",
    "version": 3
   },
   "file_extension": ".py",
   "mimetype": "text/x-python",
   "name": "python",
   "nbconvert_exporter": "python",
   "pygments_lexer": "ipython3",
   "version": "3.7.7"
  }
 },
 "nbformat": 4,
 "nbformat_minor": 4
}
