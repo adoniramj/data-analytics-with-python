{
 "cells": [
  {
   "cell_type": "markdown",
   "metadata": {},
   "source": [
    "<h1 style=\"color : red;\">Working with csv files</h1>"
   ]
  },
  {
   "cell_type": "markdown",
   "metadata": {},
   "source": [
    "## What is a csv file\n",
    "\n",
    "A CSV file (Comma Separated Values file) is a type of plain text file that uses specific structuring to arrange tabular data. Because it’s a plain text file, it can contain only actual text data—in other words, printable ASCII or Unicode characters."
   ]
  },
  {
   "cell_type": "markdown",
   "metadata": {},
   "source": [
    "## Create a csv file using write method. Do not use csv module."
   ]
  },
  {
   "cell_type": "code",
   "execution_count": 17,
   "metadata": {},
   "outputs": [],
   "source": [
    "with open(\"sample_files/state_info.csv\", \"w\") as file:\n",
    "    file.write(\"Florida,Tallahasee,FL\\n\")\n",
    "    file.write(\"Georgia,Atlanta,GA\\n\")\n",
    "    file.write(\"South Carolina,Columbia,SC\\n\")"
   ]
  },
  {
   "cell_type": "markdown",
   "metadata": {},
   "source": [
    "### read the file for verification"
   ]
  },
  {
   "cell_type": "code",
   "execution_count": 18,
   "metadata": {},
   "outputs": [
    {
     "name": "stdout",
     "output_type": "stream",
     "text": [
      "Florida,Tallahasee,FL\n",
      "Georgia,Atlanta,GA\n",
      "South Carolina,Columbia,SC\n",
      "\n"
     ]
    }
   ],
   "source": [
    "with open(\"sample_files/state_info.csv\") as file:\n",
    "    print(file.read())"
   ]
  },
  {
   "cell_type": "markdown",
   "metadata": {},
   "source": [
    "## Using the CSV module"
   ]
  },
  {
   "cell_type": "code",
   "execution_count": 34,
   "metadata": {},
   "outputs": [],
   "source": [
    "import csv"
   ]
  },
  {
   "cell_type": "code",
   "execution_count": 60,
   "metadata": {},
   "outputs": [
    {
     "name": "stdout",
     "output_type": "stream",
     "text": [
      "State: Florida, Capital: Tallahasee\n",
      "The abbreviation of Florida is FL\n",
      "State: Georgia, Capital: Atlanta\n",
      "The abbreviation of Georgia is GA\n",
      "State: South Carolina, Capital: Columbia\n",
      "The abbreviation of South Carolina is SC\n",
      "**************************************************\n",
      "['Florida', 'Tallahasee', 'FL']\n",
      "['Georgia', 'Atlanta', 'GA']\n",
      "['South Carolina', 'Columbia', 'SC']\n"
     ]
    }
   ],
   "source": [
    "f = open(\"sample_files/state_info.csv\")\n",
    "csv_f = csv.reader(f) # Returns a reader object which will iterate over lines in the given csvfile.\n",
    "for row in csv_f: # iterating over the reader object\n",
    "    state, capital, abbreviation = row #unpacking a list\n",
    "    print(\"State: {}, Capital: {}\".format(state, capital))\n",
    "    print(\"The abbreviation of {} is {}\".format(state, abbreviation))\n",
    "f.close()\n",
    "\n",
    "print(\"*\"*50)\n",
    "\n",
    "with open('sample_files/state_info.csv') as file:\n",
    "    csv_file = csv.reader(file)\n",
    "    for row in csv_file:\n",
    "        print(row)"
   ]
  },
  {
   "cell_type": "markdown",
   "metadata": {},
   "source": [
    "## Create a csv file from a list that has no headers"
   ]
  },
  {
   "cell_type": "code",
   "execution_count": 35,
   "metadata": {},
   "outputs": [],
   "source": [
    "country_list = [[\"USA\", \"Washington D.C.\"], [\"Canada\", \"Ottawa\"], [\"Mexico\", \"Mexico City\"]]"
   ]
  },
  {
   "cell_type": "code",
   "execution_count": 36,
   "metadata": {},
   "outputs": [],
   "source": [
    "with open(\"sample_files/countries.csv\", \"w\") as file:\n",
    "    writer = csv.writer(file) #Return a writer object responsible \n",
    "                              #for converting the user’s data into delimited strings on the given file-like object.\n",
    "    writer.writerows(country_list)"
   ]
  },
  {
   "cell_type": "markdown",
   "metadata": {},
   "source": [
    "### Read  file"
   ]
  },
  {
   "cell_type": "code",
   "execution_count": 37,
   "metadata": {},
   "outputs": [
    {
     "name": "stdout",
     "output_type": "stream",
     "text": [
      "The capital of USA is Washington D.C.\n",
      "The capital of Canada is Ottawa\n",
      "The capital of Mexico is Mexico City\n"
     ]
    }
   ],
   "source": [
    "f = open(\"sample_files/countries.csv\")\n",
    "csv_f = csv.reader(f)\n",
    "for row in csv_f:\n",
    "    country, capital = row\n",
    "    print(\"The capital of {} is {}\".format(country, capital))"
   ]
  },
  {
   "cell_type": "code",
   "execution_count": 38,
   "metadata": {},
   "outputs": [],
   "source": [
    "f.close()"
   ]
  },
  {
   "cell_type": "markdown",
   "metadata": {},
   "source": [
    "## Using DictReader to read a csv file that has headers."
   ]
  },
  {
   "cell_type": "markdown",
   "metadata": {},
   "source": [
    "### Create a csv file using a list. The csv file contains a header.\n",
    "\n",
    "The first member of the list is the header."
   ]
  },
  {
   "cell_type": "code",
   "execution_count": 53,
   "metadata": {},
   "outputs": [],
   "source": [
    "# this is the same procedure as the one above, except this list has a header row\n",
    "river_list = [['River', 'Continent'], ['Nile', 'Africa'], \n",
    "              ['Tiber', 'Europe'], ['Mississippi', 'North America'], \n",
    "              ['Tigris', 'Asia'], ['Amazon', 'South America']]\n",
    "with open(\"sample_files/rivers.csv\", \"w\") as file:\n",
    "    writer = csv.writer(file)\n",
    "    writer.writerows(river_list)"
   ]
  },
  {
   "cell_type": "markdown",
   "metadata": {},
   "source": [
    "### Read a csv file that has headers. \n",
    "\n",
    "DictReader assumens that the first row is the header.\n",
    "\n",
    "DictReader creates an object that operates like a regular reader but maps the information in each row to a dict whose keys are given by the optional fieldnames parameter."
   ]
  },
  {
   "cell_type": "code",
   "execution_count": 50,
   "metadata": {},
   "outputs": [
    {
     "name": "stdout",
     "output_type": "stream",
     "text": [
      "['River', 'Continent']\n",
      "**************************************************\n",
      "The river Nile is located in Africa\n",
      "The river Tiber is located in Europe\n",
      "The river Mississippi is located in North America\n",
      "The river Tigris is located in Asia\n",
      "The river Amazon is located in South America\n",
      "**************************************************\n",
      "OrderedDict([('River', 'Nile'), ('Continent', 'Africa')])\n",
      "OrderedDict([('River', 'Tiber'), ('Continent', 'Europe')])\n",
      "OrderedDict([('River', 'Mississippi'), ('Continent', 'North America')])\n",
      "OrderedDict([('River', 'Tigris'), ('Continent', 'Asia')])\n",
      "OrderedDict([('River', 'Amazon'), ('Continent', 'South America')])\n"
     ]
    }
   ],
   "source": [
    "with open('sample_files/rivers.csv') as file:\n",
    "    reader = csv.DictReader(file)\n",
    "    print(reader.fieldnames)\n",
    "    print('*'*50)\n",
    "    for row in reader:    \n",
    "        print((\"The river {} is located in {}\".format(row['River'], row['Continent'])))\n",
    "    #the file will close after the iteration above is complete.\n",
    "    #the code below will not show any results.\n",
    "    for row in reader:\n",
    "        print(row)\n",
    "print('*'*50)\n",
    "with open('sample_files/rivers.csv') as file:\n",
    "    reader = csv.DictReader(file)\n",
    "    for row in reader:\n",
    "        print(row)"
   ]
  },
  {
   "cell_type": "markdown",
   "metadata": {},
   "source": [
    "## Use DictWriter to create a csv file that has header. Use a list of key and a list of dictionaries."
   ]
  },
  {
   "cell_type": "markdown",
   "metadata": {},
   "source": [
    "### Create keys and dictionary"
   ]
  },
  {
   "cell_type": "code",
   "execution_count": 29,
   "metadata": {},
   "outputs": [],
   "source": [
    "keys = [\"author\", \"title\", \"genre\"]\n",
    "\n",
    "data = [\n",
    "    {\n",
    "        \"author\" : \"Isaac Assimov\",\n",
    "        \"title\" : \"Foundation\",\n",
    "        \"genre\" : \"science fiction\"\n",
    "    },\n",
    "    {\n",
    "        \"author\" : \"Jane Austen\",\n",
    "        \"title\" : \"Pride and Prejudice\",\n",
    "        \"genre\" : \"fiction\"\n",
    "    },\n",
    "    {\n",
    "        \"author\" : \"Napoleon Hill\",\n",
    "        \"title\" : \"Think and Grow Rich\",\n",
    "        \"genre\" : \"self-development\"\n",
    "    }\n",
    "]"
   ]
  },
  {
   "cell_type": "markdown",
   "metadata": {},
   "source": [
    "### Create the file to insert data"
   ]
  },
  {
   "cell_type": "code",
   "execution_count": 30,
   "metadata": {},
   "outputs": [],
   "source": [
    "with open(\"sample_files/authors.csv\", \"w\") as authors:\n",
    "    writer = csv.DictWriter(authors, fieldnames=keys)\n",
    "    writer.writeheader()\n",
    "    writer.writerows(data)"
   ]
  },
  {
   "cell_type": "markdown",
   "metadata": {},
   "source": [
    "### Verify data was written to file"
   ]
  },
  {
   "cell_type": "code",
   "execution_count": 57,
   "metadata": {},
   "outputs": [
    {
     "name": "stdout",
     "output_type": "stream",
     "text": [
      "['author', 'title', 'genre']\n",
      "**************************************************\n",
      "Isaac Assimov wrote Foundation. The genre of the book is science fiction\n",
      "Jane Austen wrote Pride and Prejudice. The genre of the book is fiction\n",
      "Napoleon Hill wrote Think and Grow Rich. The genre of the book is self-development\n",
      "**************************************************\n",
      "OrderedDict([('author', 'Isaac Assimov'), ('title', 'Foundation'), ('genre', 'science fiction')])\n",
      "OrderedDict([('author', 'Jane Austen'), ('title', 'Pride and Prejudice'), ('genre', 'fiction')])\n",
      "OrderedDict([('author', 'Napoleon Hill'), ('title', 'Think and Grow Rich'), ('genre', 'self-development')])\n"
     ]
    }
   ],
   "source": [
    "with open(\"sample_files/authors.csv\") as authors:\n",
    "    reader = csv.DictReader(authors)\n",
    "    print(reader.fieldnames)\n",
    "    print(\"*\"*50)\n",
    "    for row in reader:\n",
    "        print(\"{} wrote {}. The genre of the book is {}\". format(row[\"author\"], row[\"title\"], row[\"genre\"]))\n",
    "\n",
    "print(\"*\"*50)        \n",
    "        \n",
    "        \n",
    "with open(\"sample_files/authors.csv\") as authors:\n",
    "    reader = csv.DictReader(authors)\n",
    "    for row in reader:\n",
    "        print(row)"
   ]
  },
  {
   "cell_type": "code",
   "execution_count": null,
   "metadata": {},
   "outputs": [],
   "source": []
  }
 ],
 "metadata": {
  "kernelspec": {
   "display_name": "Python 3",
   "language": "python",
   "name": "python3"
  },
  "language_info": {
   "codemirror_mode": {
    "name": "ipython",
    "version": 3
   },
   "file_extension": ".py",
   "mimetype": "text/x-python",
   "name": "python",
   "nbconvert_exporter": "python",
   "pygments_lexer": "ipython3",
   "version": "3.7.7"
  }
 },
 "nbformat": 4,
 "nbformat_minor": 4
}
