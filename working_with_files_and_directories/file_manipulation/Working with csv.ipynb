{
 "cells": [
  {
   "cell_type": "code",
   "execution_count": 1,
   "metadata": {},
   "outputs": [],
   "source": [
    "import csv"
   ]
  },
  {
   "cell_type": "markdown",
   "metadata": {},
   "source": [
    "## create a file with csv values"
   ]
  },
  {
   "cell_type": "code",
   "execution_count": 10,
   "metadata": {},
   "outputs": [],
   "source": [
    "with open(\"sample_files/state_info.txt\", \"w\") as file:\n",
    "    file.write(\"Florida,Tallahasee,FL\\n\")\n",
    "    file.write(\"Georgia,Atlanta,GA\\n\")\n",
    "    file.write(\"South Carolina,Columbia,SC\\n\")"
   ]
  },
  {
   "cell_type": "markdown",
   "metadata": {},
   "source": [
    "## Read file"
   ]
  },
  {
   "cell_type": "code",
   "execution_count": 11,
   "metadata": {},
   "outputs": [
    {
     "name": "stdout",
     "output_type": "stream",
     "text": [
      "Florida,Tallahasee,FL\n",
      "Georgia,Atlanta,GA\n",
      "South Carolina,Columbia,SC\n",
      "\n"
     ]
    }
   ],
   "source": [
    "with open(\"sample_files/state_info.txt\") as file:\n",
    "    print(file.read())"
   ]
  },
  {
   "cell_type": "code",
   "execution_count": 13,
   "metadata": {},
   "outputs": [
    {
     "name": "stdout",
     "output_type": "stream",
     "text": [
      "State: Florida, Capital: Tallahasee\n",
      "The abbreviation of Florida is FL\n",
      "State: Georgia, Capital: Atlanta\n",
      "The abbreviation of Georgia is GA\n",
      "State: South Carolina, Capital: Columbia\n",
      "The abbreviation of South Carolina is SC\n"
     ]
    }
   ],
   "source": [
    "f = open(\"sample_files/state_info.txt\")\n",
    "csv_f = csv.reader(f)\n",
    "for row in csv_f:\n",
    "    state, capital, abbreviation = row\n",
    "    print(\"State: {}, Capital: {}\".format(state, capital))\n",
    "    print(\"The abbreviation of {} is {}\".format(state, abbreviation))"
   ]
  },
  {
   "cell_type": "code",
   "execution_count": 14,
   "metadata": {},
   "outputs": [],
   "source": [
    "f.close()"
   ]
  },
  {
   "cell_type": "markdown",
   "metadata": {},
   "source": [
    "## Creating csv files"
   ]
  },
  {
   "cell_type": "code",
   "execution_count": 15,
   "metadata": {},
   "outputs": [],
   "source": [
    "country_list = [[\"USA\", \"Washington D.C.\"], [\"Canada\", \"Ottawa\"], [\"Mexico\", \"Mexico City\"]]"
   ]
  },
  {
   "cell_type": "code",
   "execution_count": 17,
   "metadata": {},
   "outputs": [],
   "source": [
    "with open(\"sample_files/countries.csv\", \"w\") as file:\n",
    "    writer = csv.writer(file)\n",
    "    writer.writerows(country_list)"
   ]
  },
  {
   "cell_type": "markdown",
   "metadata": {},
   "source": [
    "## Read  file"
   ]
  },
  {
   "cell_type": "code",
   "execution_count": 18,
   "metadata": {},
   "outputs": [
    {
     "name": "stdout",
     "output_type": "stream",
     "text": [
      "['USA', 'Washington D.C.']\n",
      "['Canada', 'Ottawa']\n",
      "['Mexico', 'Mexico City']\n"
     ]
    }
   ],
   "source": [
    "f = open(\"sample_files/countries.csv\")\n",
    "csv_f = csv.reader(f)\n",
    "for row in csv_f:\n",
    "    print(row)"
   ]
  },
  {
   "cell_type": "code",
   "execution_count": 19,
   "metadata": {},
   "outputs": [],
   "source": [
    "f.close()"
   ]
  },
  {
   "cell_type": "code",
   "execution_count": null,
   "metadata": {},
   "outputs": [],
   "source": []
  }
 ],
 "metadata": {
  "kernelspec": {
   "display_name": "Python 3",
   "language": "python",
   "name": "python3"
  },
  "language_info": {
   "codemirror_mode": {
    "name": "ipython",
    "version": 3
   },
   "file_extension": ".py",
   "mimetype": "text/x-python",
   "name": "python",
   "nbconvert_exporter": "python",
   "pygments_lexer": "ipython3",
   "version": "3.7.7"
  }
 },
 "nbformat": 4,
 "nbformat_minor": 4
}
