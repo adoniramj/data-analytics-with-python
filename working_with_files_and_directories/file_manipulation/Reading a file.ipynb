{
 "cells": [
  {
   "cell_type": "markdown",
   "metadata": {},
   "source": [
    "# How to read a file in the current directory"
   ]
  },
  {
   "cell_type": "code",
   "execution_count": 1,
   "metadata": {},
   "outputs": [
    {
     "name": "stdout",
     "output_type": "stream",
     "text": [
      "If you can keep your head when all about you\n",
      "    Are losing theirs and blaming it on you,\n",
      "If you can trust yourself when all men doubt you,\n",
      "    But make allowance for their doubting too;\n",
      "If you can wait and not be tired by waiting,\n",
      "    Or being lied about, don’t deal in lies,\n",
      "Or being hated, don’t give way to hating,\n",
      "    And yet don’t look too good, nor talk too wise:\n",
      "\n",
      "If you can dream—and not make dreams your master;\n",
      "    If you can think—and not make thoughts your aim;\n",
      "If you can meet with Triumph and Disaster\n",
      "    And treat those two impostors just the same;\n",
      "If you can bear to hear the truth you’ve spoken\n",
      "    Twisted by knaves to make a trap for fools,\n",
      "Or watch the things you gave your life to, broken,\n",
      "    And stoop and build ’em up with worn-out tools:\n",
      "\n",
      "If you can make one heap of all your winnings\n",
      "    And risk it on one turn of pitch-and-toss,\n",
      "And lose, and start again at your beginnings\n",
      "    And never breathe a word about your loss;\n",
      "If you can force your heart and nerve and sinew\n",
      "    To serve your turn long after they are gone,\n",
      "And so hold on when there is nothing in you\n",
      "    Except the Will which says to them: ‘Hold on!’\n",
      "\n",
      "If you can talk with crowds and keep your virtue,\n",
      "    Or walk with Kings—nor lose the common touch,\n",
      "If neither foes nor loving friends can hurt you,\n",
      "    If all men count with you, but none too much;\n",
      "If you can fill the unforgiving minute\n",
      "    With sixty seconds’ worth of distance run,\n",
      "Yours is the Earth and everything that’s in it,\n",
      "    And—which is more—you’ll be a Man, my son!\n"
     ]
    }
   ],
   "source": [
    "file = open(\"sample_files/poem.txt\")\n",
    "print(file.read())\n",
    "file.close()"
   ]
  },
  {
   "cell_type": "markdown",
   "metadata": {},
   "source": [
    "## to read a single line use readline()"
   ]
  },
  {
   "cell_type": "code",
   "execution_count": 2,
   "metadata": {},
   "outputs": [
    {
     "name": "stdout",
     "output_type": "stream",
     "text": [
      "If you can keep your head when all about you\n",
      "\n",
      "    Are losing theirs and blaming it on you,\n",
      "\n"
     ]
    }
   ],
   "source": [
    "file = open(\"sample_files/poem.txt\")\n",
    "print(file.readline())\n",
    "print(file.readline())\n",
    "file.close()"
   ]
  },
  {
   "cell_type": "markdown",
   "metadata": {},
   "source": [
    "Notice how readline only reads a single line, but keeps an internal tracker to know which the next line to print."
   ]
  },
  {
   "cell_type": "markdown",
   "metadata": {},
   "source": [
    "## using with, it is code of block that automatically close the file"
   ]
  },
  {
   "cell_type": "code",
   "execution_count": 3,
   "metadata": {},
   "outputs": [
    {
     "name": "stdout",
     "output_type": "stream",
     "text": [
      "If you can keep your head when all about you\n",
      "    Are losing theirs and blaming it on you,\n",
      "If you can trust yourself when all men doubt you,\n",
      "    But make allowance for their doubting too;\n",
      "If you can wait and not be tired by waiting,\n",
      "    Or being lied about, don’t deal in lies,\n",
      "Or being hated, don’t give way to hating,\n",
      "    And yet don’t look too good, nor talk too wise:\n",
      "\n",
      "If you can dream—and not make dreams your master;\n",
      "    If you can think—and not make thoughts your aim;\n",
      "If you can meet with Triumph and Disaster\n",
      "    And treat those two impostors just the same;\n",
      "If you can bear to hear the truth you’ve spoken\n",
      "    Twisted by knaves to make a trap for fools,\n",
      "Or watch the things you gave your life to, broken,\n",
      "    And stoop and build ’em up with worn-out tools:\n",
      "\n",
      "If you can make one heap of all your winnings\n",
      "    And risk it on one turn of pitch-and-toss,\n",
      "And lose, and start again at your beginnings\n",
      "    And never breathe a word about your loss;\n",
      "If you can force your heart and nerve and sinew\n",
      "    To serve your turn long after they are gone,\n",
      "And so hold on when there is nothing in you\n",
      "    Except the Will which says to them: ‘Hold on!’\n",
      "\n",
      "If you can talk with crowds and keep your virtue,\n",
      "    Or walk with Kings—nor lose the common touch,\n",
      "If neither foes nor loving friends can hurt you,\n",
      "    If all men count with you, but none too much;\n",
      "If you can fill the unforgiving minute\n",
      "    With sixty seconds’ worth of distance run,\n",
      "Yours is the Earth and everything that’s in it,\n",
      "    And—which is more—you’ll be a Man, my son!\n"
     ]
    }
   ],
   "source": [
    "with open(\"sample_files/poem.txt\") as file:\n",
    "    print(file.read())"
   ]
  },
  {
   "cell_type": "markdown",
   "metadata": {},
   "source": [
    "## Manipulating individual lines"
   ]
  },
  {
   "cell_type": "code",
   "execution_count": 4,
   "metadata": {},
   "outputs": [
    {
     "name": "stdout",
     "output_type": "stream",
     "text": [
      "If you can keep your head when all about you\n",
      "ARE LOSING THEIRS AND BLAMING IT ON YOU,\n",
      "If you can trust yourself when all men doubt you,\n",
      "BUT MAKE ALLOWANCE FOR THEIR DOUBTING TOO;\n",
      "If you can wait and not be tired by waiting,\n",
      "OR BEING LIED ABOUT, DON’T DEAL IN LIES,\n",
      "Or being hated, don’t give way to hating,\n",
      "AND YET DON’T LOOK TOO GOOD, NOR TALK TOO WISE:\n",
      "\n",
      "IF YOU CAN DREAM—AND NOT MAKE DREAMS YOUR MASTER;\n",
      "If you can think—and not make thoughts your aim;\n",
      "IF YOU CAN MEET WITH TRIUMPH AND DISASTER\n",
      "And treat those two impostors just the same;\n",
      "IF YOU CAN BEAR TO HEAR THE TRUTH YOU’VE SPOKEN\n",
      "Twisted by knaves to make a trap for fools,\n",
      "OR WATCH THE THINGS YOU GAVE YOUR LIFE TO, BROKEN,\n",
      "And stoop and build ’em up with worn-out tools:\n",
      "\n",
      "If you can make one heap of all your winnings\n",
      "AND RISK IT ON ONE TURN OF PITCH-AND-TOSS,\n",
      "And lose, and start again at your beginnings\n",
      "AND NEVER BREATHE A WORD ABOUT YOUR LOSS;\n",
      "If you can force your heart and nerve and sinew\n",
      "TO SERVE YOUR TURN LONG AFTER THEY ARE GONE,\n",
      "And so hold on when there is nothing in you\n",
      "EXCEPT THE WILL WHICH SAYS TO THEM: ‘HOLD ON!’\n",
      "\n",
      "IF YOU CAN TALK WITH CROWDS AND KEEP YOUR VIRTUE,\n",
      "Or walk with Kings—nor lose the common touch,\n",
      "IF NEITHER FOES NOR LOVING FRIENDS CAN HURT YOU,\n",
      "If all men count with you, but none too much;\n",
      "IF YOU CAN FILL THE UNFORGIVING MINUTE\n",
      "With sixty seconds’ worth of distance run,\n",
      "YOURS IS THE EARTH AND EVERYTHING THAT’S IN IT,\n",
      "And—which is more—you’ll be a Man, my son!\n"
     ]
    }
   ],
   "source": [
    " with open(\"sample_files/poem.txt\") as file:\n",
    "        i = 0\n",
    "        for line in file:\n",
    "            if i % 2 == 0:\n",
    "                print(line.strip())\n",
    "            else:\n",
    "                print(line.strip().upper())\n",
    "            i += 1"
   ]
  },
  {
   "cell_type": "code",
   "execution_count": null,
   "metadata": {},
   "outputs": [],
   "source": []
  }
 ],
 "metadata": {
  "kernelspec": {
   "display_name": "Python 3",
   "language": "python",
   "name": "python3"
  },
  "language_info": {
   "codemirror_mode": {
    "name": "ipython",
    "version": 3
   },
   "file_extension": ".py",
   "mimetype": "text/x-python",
   "name": "python",
   "nbconvert_exporter": "python",
   "pygments_lexer": "ipython3",
   "version": "3.7.6"
  }
 },
 "nbformat": 4,
 "nbformat_minor": 4
}
