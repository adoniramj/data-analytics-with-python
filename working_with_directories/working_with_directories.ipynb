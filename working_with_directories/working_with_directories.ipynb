{
 "cells": [
  {
   "cell_type": "markdown",
   "metadata": {},
   "source": [
    "The sample_dir is the directory to be used with this notebook"
   ]
  },
  {
   "cell_type": "code",
   "execution_count": 1,
   "metadata": {},
   "outputs": [],
   "source": [
    "import os"
   ]
  },
  {
   "cell_type": "code",
   "execution_count": 3,
   "metadata": {},
   "outputs": [
    {
     "data": {
      "text/plain": [
       "['index.html', 'index.css', 'python_files']"
      ]
     },
     "execution_count": 3,
     "metadata": {},
     "output_type": "execute_result"
    }
   ],
   "source": [
    "directory_to_be_checked = \"sample_dir\"\n",
    "os.listdir(directory)"
   ]
  },
  {
   "cell_type": "markdown",
   "metadata": {},
   "source": [
    "procedure to determine the directories and files in sample_dir"
   ]
  },
  {
   "cell_type": "code",
   "execution_count": 8,
   "metadata": {},
   "outputs": [
    {
     "name": "stdout",
     "output_type": "stream",
     "text": [
      "sample_dir/index.html is a file\n",
      "sample_dir/index.css is a file\n",
      "sample_dir/python_files is a directory\n"
     ]
    }
   ],
   "source": [
    "for name in os.listdir(directory_to_be_checked):\n",
    "    full_name = os.path.join(directory_to_be_checked, name)\n",
    "    if os.path.isdir(full_name): #this is the full name\n",
    "        print(\"{} is a directory\".format(full_name))\n",
    "    else:\n",
    "        print(\"{} is a file\".format(full_name))"
   ]
  },
  {
   "cell_type": "markdown",
   "metadata": {},
   "source": [
    "The join function is to make sure this is os independent. Windows uses a / and Unix like os use \\.\n",
    "Notice the output is a relative path."
   ]
  }
 ],
 "metadata": {
  "kernelspec": {
   "display_name": "Python 3",
   "language": "python",
   "name": "python3"
  },
  "language_info": {
   "codemirror_mode": {
    "name": "ipython",
    "version": 3
   },
   "file_extension": ".py",
   "mimetype": "text/x-python",
   "name": "python",
   "nbconvert_exporter": "python",
   "pygments_lexer": "ipython3",
   "version": "3.7.6"
  }
 },
 "nbformat": 4,
 "nbformat_minor": 4
}
