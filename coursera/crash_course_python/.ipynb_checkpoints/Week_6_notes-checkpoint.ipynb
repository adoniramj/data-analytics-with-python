{
 "cells": [
  {
   "cell_type": "markdown",
   "metadata": {},
   "source": [
    "Functions to populate machine dictionary"
   ]
  },
  {
   "cell_type": "code",
   "execution_count": 15,
   "metadata": {},
   "outputs": [],
   "source": [
    "def get_event_date(event):\n",
    "    return event.date\n",
    "\n",
    "def current_users(events):\n",
    "    \"\"\"\n",
    "    Prints which machines have logged in user\n",
    "    events is a list\n",
    "    \"\"\"\n",
    "    events.sort(key=get_event_date)\n",
    "    machines = {}\n",
    "    for event in events:\n",
    "        if event.machine not in machines:\n",
    "            machines[event.machine] = set()\n",
    "            # using set to prevent the same user to be logged in to the same machine more than once.\n",
    "        if event.type == 'login':\n",
    "            machines[event.machine].add(event.user)\n",
    "        elif event.type == 'logout':\n",
    "            machines[event.machine].remove(event.user)\n",
    "    return machines"
   ]
  },
  {
   "cell_type": "markdown",
   "metadata": {},
   "source": [
    "Function to generate print report"
   ]
  },
  {
   "cell_type": "code",
   "execution_count": 29,
   "metadata": {},
   "outputs": [],
   "source": [
    "def print_report(machines):\n",
    "    for machine, users in machines.items():\n",
    "        if(len(users) > 0):\n",
    "            user_list = \" \".join(users)\n",
    "        print(\"{} : {}\".format(machine, user_list))"
   ]
  },
  {
   "cell_type": "markdown",
   "metadata": {},
   "source": [
    "Class for event instances"
   ]
  },
  {
   "cell_type": "code",
   "execution_count": 20,
   "metadata": {},
   "outputs": [],
   "source": [
    "class Event:\n",
    "    def __init__(self, event_date, event_type, machine_type, user):\n",
    "        self.date = event_date\n",
    "        self.type = event_type\n",
    "        self.machine = machine_type\n",
    "        self.user = user"
   ]
  },
  {
   "cell_type": "markdown",
   "metadata": {},
   "source": [
    "Creating a collection of events"
   ]
  },
  {
   "cell_type": "code",
   "execution_count": 26,
   "metadata": {},
   "outputs": [],
   "source": [
    "events = [\n",
    "    Event('2020-05-26 00:00:00', 'login', 'machine A', 'user A'),\n",
    "    Event('2020-05-26 00:05:00', 'login', 'machine B', 'user A'),\n",
    "    Event('2020-05-26 00:05:00', 'login', 'machine B', 'user B'),\n",
    "    Event('2020-05-26 00:05:00', 'login', 'machine B', 'user C'),\n",
    "    Event('2020-05-26 00:05:00', 'logout', 'machine A', 'user A'),\n",
    "    Event('2020-05-26 00:10:00', 'login', 'machine A', 'user D'),\n",
    "    Event('2020-05-26 00:05:00', 'login', 'machine B', 'user E'),\n",
    "    Event('2020-05-26 00:10:00', 'logout', 'machine B', 'user C'),\n",
    "    Event('2020-05-26 00:20:00', 'login', 'machine C', 'user C')\n",
    "]"
   ]
  },
  {
   "cell_type": "code",
   "execution_count": 27,
   "metadata": {},
   "outputs": [],
   "source": [
    "users = current_users(events)"
   ]
  },
  {
   "cell_type": "code",
   "execution_count": 30,
   "metadata": {},
   "outputs": [
    {
     "name": "stdout",
     "output_type": "stream",
     "text": [
      "machine A : user D\n",
      "machine B : user E user A user B\n",
      "machine C : user C\n"
     ]
    }
   ],
   "source": [
    "print_report(users)"
   ]
  },
  {
   "cell_type": "code",
   "execution_count": null,
   "metadata": {},
   "outputs": [],
   "source": []
  }
 ],
 "metadata": {
  "kernelspec": {
   "display_name": "Python 3",
   "language": "python",
   "name": "python3"
  },
  "language_info": {
   "codemirror_mode": {
    "name": "ipython",
    "version": 3
   },
   "file_extension": ".py",
   "mimetype": "text/x-python",
   "name": "python",
   "nbconvert_exporter": "python",
   "pygments_lexer": "ipython3",
   "version": "3.7.6"
  }
 },
 "nbformat": 4,
 "nbformat_minor": 4
}
